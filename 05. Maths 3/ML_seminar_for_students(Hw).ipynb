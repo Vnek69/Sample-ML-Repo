{
 "cells": [
  {
   "cell_type": "markdown",
   "id": "3d8102db",
   "metadata": {},
   "source": [
    "# Логистическая регрессия"
   ]
  },
  {
   "cell_type": "code",
   "execution_count": 3,
   "id": "5b5ce7e6",
   "metadata": {},
   "outputs": [],
   "source": [
    "import numpy as np\n",
    "import matplotlib\n",
    "import matplotlib.pyplot as plt\n",
    "import warnings\n",
    "warnings.filterwarnings(\"ignore\")"
   ]
  },
  {
   "cell_type": "code",
   "execution_count": 4,
   "id": "94f9a6ac",
   "metadata": {},
   "outputs": [],
   "source": [
    "def sigm(s):\n",
    "  return 1 / (1 + np.exp(-s))"
   ]
  },
  {
   "cell_type": "code",
   "execution_count": 5,
   "id": "367d82c8",
   "metadata": {},
   "outputs": [],
   "source": [
    "from sklearn.base import BaseEstimator, RegressorMixin\n",
    "\n",
    "class logreg(BaseEstimator, RegressorMixin):\n",
    "  def __init__(self, batch_size=75, num_steps=10000, lr=1e-2):\n",
    "    self.batch_size = batch_size\n",
    "    self.num_steps = num_steps\n",
    "    self.lr = lr\n",
    "\n",
    "  def fit(self, X, Y):\n",
    "    n_objects = len(X)\n",
    "    w = np.random.uniform(-2, 2, (X.shape[1]+1, 1))\n",
    "    Xtrain = np.concatenate((np.ones((n_objects, 1)), X), axis = 1)\n",
    "    for i in range(self.num_steps):\n",
    "      sample_indices = np.random.randint(0, n_objects, size = self.batch_size)\n",
    "      w -= self.lr * (Xtrain[sample_indices].T @ (sigm(Xtrain[sample_indices] @ w)-Y[sample_indices]))/self.batch_size\n",
    "    self.w = w\n",
    "    return self\n",
    "\n",
    "  def predict(self, X, a = 0.5):\n",
    "    n_objects = len(X)\n",
    "    X_=np.concatenate((np.ones((n_objects, 1)), X), axis=1)\n",
    "    xs = sigm(X_@self.w)\n",
    "    return xs >= a"
   ]
  },
  {
   "cell_type": "markdown",
   "id": "9d740763",
   "metadata": {},
   "source": [
    "# Тестируем"
   ]
  },
  {
   "cell_type": "code",
   "execution_count": 6,
   "id": "82043124",
   "metadata": {},
   "outputs": [],
   "source": [
    "from sklearn.linear_model import LogisticRegression\n",
    "from sklearn.preprocessing import StandardScaler\n",
    "from sklearn.datasets import make_blobs\n",
    "from sklearn.metrics import accuracy_score\n",
    "from sklearn.metrics import r2_score\n",
    "\n",
    "samples = 100000\n",
    "features = 700\n",
    "x, y = make_blobs(n_samples=samples, centers=[[-3.5,0.5],[3.5,-0.5]], cluster_std=1, random_state=42)\n",
    "\n",
    "y = y.reshape(samples, 1)\n",
    "w_true = np.random.uniform(-2, 2, (2, 1))"
   ]
  },
  {
   "cell_type": "code",
   "execution_count": 7,
   "id": "a1e716d0",
   "metadata": {},
   "outputs": [],
   "source": [
    "from sklearn.model_selection import train_test_split\n",
    "\n",
    "x_train, x_test, y_train, y_test = train_test_split(x, y)"
   ]
  },
  {
   "cell_type": "code",
   "execution_count": 8,
   "id": "a0157234",
   "metadata": {},
   "outputs": [],
   "source": [
    "scaler = StandardScaler()\n",
    "scaler.fit(x_train)\n",
    "x_scaled = scaler.transform(x_train)\n",
    "x_test_scaled = scaler.transform(x_test)"
   ]
  },
  {
   "cell_type": "code",
   "execution_count": 9,
   "id": "27624b0b",
   "metadata": {},
   "outputs": [
    {
     "name": "stdout",
     "output_type": "stream",
     "text": [
      "accuracy_score in own model: 0.99964\n",
      "accuracy_score in sklearn loss: 0.99992\n",
      "\n",
      "R^2 in own model: 0.998559994239977\n",
      "R^2 in sklearn loss: 0.9996799987199949\n"
     ]
    }
   ],
   "source": [
    "own_model = logreg().fit(x_scaled, y_train)\n",
    "y_pred = own_model.predict(x_test_scaled)\n",
    "own = accuracy_score(y_test, y_pred)\n",
    "own_r2 = r2_score(y_test, y_pred)\n",
    "\n",
    "sklearn_model = LogisticRegression().fit(x_scaled, y_train)\n",
    "y_pred = sklearn_model.predict(x_test_scaled)\n",
    "\n",
    "sklearn = accuracy_score(y_test, y_pred)\n",
    "sklearn_r2 = r2_score(y_test, y_pred)\n",
    "\n",
    "print('accuracy_score in own model:', own)\n",
    "print('accuracy_score in sklearn loss:', sklearn)\n",
    "print('\\nR^2 in own model:', own_r2)\n",
    "print('R^2 in sklearn loss:', sklearn_r2)"
   ]
  },
  {
   "cell_type": "markdown",
   "id": "f28dd3ad",
   "metadata": {},
   "source": [
    "# Ridge"
   ]
  },
  {
   "cell_type": "code",
   "execution_count": 10,
   "id": "a4bcf533",
   "metadata": {},
   "outputs": [],
   "source": [
    "class ridge(BaseEstimator, RegressorMixin):\n",
    "  def __init__(self, batch_size=50, num_steps=10000, lr=1e-2, a = 0.1):\n",
    "    self.batch_size = batch_size\n",
    "    self.num_steps = num_steps\n",
    "    self.lr = lr\n",
    "    self.a = a\n",
    "\n",
    "  def fit(self, X, Y):\n",
    "    w = np.random.uniform(-2, 2, (X.shape[1],1))\n",
    "    n_objects = len(X)\n",
    "    for i in range(self.num_steps):\n",
    "      sample_indices = np.random.randint(0, n_objects, size = self.batch_size)\n",
    "      w -= (2 * self.lr * (X[sample_indices].T @ (X[sample_indices] @ w - Y[sample_indices])) / self.batch_size + (2 * self.a * w) / Y.size )\n",
    "    self.w = w\n",
    "    return self\n",
    "\n",
    "  def predict(self, X):\n",
    "    return X @ self.w"
   ]
  },
  {
   "cell_type": "code",
   "execution_count": 11,
   "id": "10d0eb10",
   "metadata": {},
   "outputs": [],
   "source": [
    "from sklearn.linear_model import LinearRegression\n",
    "from sklearn.preprocessing import StandardScaler\n",
    "from sklearn.metrics import r2_score\n",
    "\n",
    "n_features = 700\n",
    "n_objects = 100000\n",
    "\n",
    "w_true = np.random.uniform(-2, 2, (n_features, 1))\n",
    "\n",
    "X = np.random.uniform(-100, 100, (n_objects, n_features)) * np.arange(n_features)\n",
    "Y = X.dot(w_true) + np.random.normal(0, 10, (n_objects, 1))"
   ]
  },
  {
   "cell_type": "code",
   "execution_count": 12,
   "id": "c5f3c14b",
   "metadata": {},
   "outputs": [],
   "source": [
    "from sklearn.model_selection import train_test_split\n",
    "\n",
    "x_train, x_test, y_train, y_test = train_test_split(X, Y)"
   ]
  },
  {
   "cell_type": "code",
   "execution_count": 13,
   "id": "199c7881",
   "metadata": {},
   "outputs": [],
   "source": [
    "scaler = StandardScaler()\n",
    "scaler.fit(x_train)\n",
    "x_scaled = scaler.transform(x_train)\n",
    "x_test_scaled = scaler.transform(x_test)"
   ]
  },
  {
   "cell_type": "code",
   "execution_count": 14,
   "id": "5e14ca14",
   "metadata": {},
   "outputs": [
    {
     "name": "stdout",
     "output_type": "stream",
     "text": [
      "R^2 in own model: 0.9999961940226556\n",
      "R^2 in sklearn loss: 0.9999999997872889\n"
     ]
    }
   ],
   "source": [
    "from sklearn.linear_model import Ridge\n",
    "own_model = ridge().fit(x_scaled, y_train)\n",
    "y_pred = own_model.predict(x_test_scaled)\n",
    "own_r2 = r2_score(y_test, y_pred)\n",
    "\n",
    "sklearn_model = Ridge(alpha = 0.1).fit(x_scaled, y_train)\n",
    "y_pred = sklearn_model.predict(x_test_scaled)\n",
    "\n",
    "sklearn_r2 = r2_score(y_test, y_pred)\n",
    "\n",
    "print('R^2 in own model:', own_r2)\n",
    "print('R^2 in sklearn loss:', sklearn_r2)"
   ]
  }
 ],
 "metadata": {
  "kernelspec": {
   "display_name": "Python 3 (ipykernel)",
   "language": "python",
   "name": "python3"
  },
  "language_info": {
   "codemirror_mode": {
    "name": "ipython",
    "version": 3
   },
   "file_extension": ".py",
   "mimetype": "text/x-python",
   "name": "python",
   "nbconvert_exporter": "python",
   "pygments_lexer": "ipython3",
   "version": "3.10.2"
  }
 },
 "nbformat": 4,
 "nbformat_minor": 5
}
