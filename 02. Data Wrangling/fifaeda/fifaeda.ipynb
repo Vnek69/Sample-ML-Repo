{
 "cells": [
  {
   "cell_type": "code",
   "execution_count": 1,
   "metadata": {},
   "outputs": [
    {
     "data": {
      "text/html": [
       "        <script type=\"text/javascript\">\n",
       "        window.PlotlyConfig = {MathJaxConfig: 'local'};\n",
       "        if (window.MathJax) {MathJax.Hub.Config({SVG: {font: \"STIX-Web\"}});}\n",
       "        if (typeof require !== 'undefined') {\n",
       "        require.undef(\"plotly\");\n",
       "        requirejs.config({\n",
       "            paths: {\n",
       "                'plotly': ['https://cdn.plot.ly/plotly-2.9.0.min']\n",
       "            }\n",
       "        });\n",
       "        require(['plotly'], function(Plotly) {\n",
       "            window._Plotly = Plotly;\n",
       "        });\n",
       "        }\n",
       "        </script>\n",
       "        "
      ]
     },
     "metadata": {},
     "output_type": "display_data"
    }
   ],
   "source": [
    "import numpy as np # linear algebra\n",
    "import pandas as pd # data processing, CSV file I/O (e.g. pd.read_csv)\n",
    "from plotly.offline import init_notebook_mode, iplot, plot\n",
    "import plotly as py\n",
    "init_notebook_mode(connected=True)\n",
    "import plotly.graph_objs as go\n",
    "import plotly.express as px\n",
    "\n",
    "\n",
    "import matplotlib.pyplot as plt\n",
    "import os"
   ]
  },
  {
   "cell_type": "markdown",
   "metadata": {},
   "source": [
    "# Требования: \n",
    "- во всех графиках должны быть подписи чере title, legend, etc... \n",
    "- Убедитесь, что после сохранения ноутбука графики всё ещё видно, если открыть ноутбук заново, если не видно, то напишите мне @kirizhik \n",
    "- Можно баловаться с цветами, чтобы было **K P A C U B O**, но **не вырвеглазно**, пожалуйста"
   ]
  },
  {
   "cell_type": "code",
   "execution_count": 15,
   "metadata": {
    "scrolled": true
   },
   "outputs": [],
   "source": [
    "df = pd.read_csv('data.csv', index_col = 0)"
   ]
  },
  {
   "cell_type": "code",
   "execution_count": 14,
   "metadata": {},
   "outputs": [
    {
     "name": "stdout",
     "output_type": "stream",
     "text": [
      "<class 'pandas.core.frame.DataFrame'>\n",
      "Int64Index: 18207 entries, 0 to 18206\n",
      "Data columns (total 88 columns):\n",
      " #   Column                    Non-Null Count  Dtype  \n",
      "---  ------                    --------------  -----  \n",
      " 0   ID                        18207 non-null  int64  \n",
      " 1   Name                      18207 non-null  object \n",
      " 2   Age                       18207 non-null  int64  \n",
      " 3   Photo                     18207 non-null  object \n",
      " 4   Nationality               18207 non-null  object \n",
      " 5   Flag                      18207 non-null  object \n",
      " 6   Overall                   18207 non-null  int64  \n",
      " 7   Potential                 18207 non-null  int64  \n",
      " 8   Club                      17966 non-null  object \n",
      " 9   Club Logo                 18207 non-null  object \n",
      " 10  Value                     18207 non-null  object \n",
      " 11  Wage                      18207 non-null  object \n",
      " 12  Special                   18207 non-null  int64  \n",
      " 13  Preferred Foot            18159 non-null  object \n",
      " 14  International Reputation  18159 non-null  float64\n",
      " 15  Weak Foot                 18159 non-null  float64\n",
      " 16  Skill Moves               18159 non-null  float64\n",
      " 17  Work Rate                 18159 non-null  object \n",
      " 18  Body Type                 18159 non-null  object \n",
      " 19  Real Face                 18159 non-null  object \n",
      " 20  Position                  18147 non-null  object \n",
      " 21  Jersey Number             18147 non-null  float64\n",
      " 22  Joined                    16654 non-null  object \n",
      " 23  Loaned From               1264 non-null   object \n",
      " 24  Contract Valid Until      17918 non-null  object \n",
      " 25  Height                    18159 non-null  object \n",
      " 26  Weight                    18159 non-null  object \n",
      " 27  LS                        16122 non-null  object \n",
      " 28  ST                        16122 non-null  object \n",
      " 29  RS                        16122 non-null  object \n",
      " 30  LW                        16122 non-null  object \n",
      " 31  LF                        16122 non-null  object \n",
      " 32  CF                        16122 non-null  object \n",
      " 33  RF                        16122 non-null  object \n",
      " 34  RW                        16122 non-null  object \n",
      " 35  LAM                       16122 non-null  object \n",
      " 36  CAM                       16122 non-null  object \n",
      " 37  RAM                       16122 non-null  object \n",
      " 38  LM                        16122 non-null  object \n",
      " 39  LCM                       16122 non-null  object \n",
      " 40  CM                        16122 non-null  object \n",
      " 41  RCM                       16122 non-null  object \n",
      " 42  RM                        16122 non-null  object \n",
      " 43  LWB                       16122 non-null  object \n",
      " 44  LDM                       16122 non-null  object \n",
      " 45  CDM                       16122 non-null  object \n",
      " 46  RDM                       16122 non-null  object \n",
      " 47  RWB                       16122 non-null  object \n",
      " 48  LB                        16122 non-null  object \n",
      " 49  LCB                       16122 non-null  object \n",
      " 50  CB                        16122 non-null  object \n",
      " 51  RCB                       16122 non-null  object \n",
      " 52  RB                        16122 non-null  object \n",
      " 53  Crossing                  18159 non-null  float64\n",
      " 54  Finishing                 18159 non-null  float64\n",
      " 55  HeadingAccuracy           18159 non-null  float64\n",
      " 56  ShortPassing              18159 non-null  float64\n",
      " 57  Volleys                   18159 non-null  float64\n",
      " 58  Dribbling                 18159 non-null  float64\n",
      " 59  Curve                     18159 non-null  float64\n",
      " 60  FKAccuracy                18159 non-null  float64\n",
      " 61  LongPassing               18159 non-null  float64\n",
      " 62  BallControl               18159 non-null  float64\n",
      " 63  Acceleration              18159 non-null  float64\n",
      " 64  SprintSpeed               18159 non-null  float64\n",
      " 65  Agility                   18159 non-null  float64\n",
      " 66  Reactions                 18159 non-null  float64\n",
      " 67  Balance                   18159 non-null  float64\n",
      " 68  ShotPower                 18159 non-null  float64\n",
      " 69  Jumping                   18159 non-null  float64\n",
      " 70  Stamina                   18159 non-null  float64\n",
      " 71  Strength                  18159 non-null  float64\n",
      " 72  LongShots                 18159 non-null  float64\n",
      " 73  Aggression                18159 non-null  float64\n",
      " 74  Interceptions             18159 non-null  float64\n",
      " 75  Positioning               18159 non-null  float64\n",
      " 76  Vision                    18159 non-null  float64\n",
      " 77  Penalties                 18159 non-null  float64\n",
      " 78  Composure                 18159 non-null  float64\n",
      " 79  Marking                   18159 non-null  float64\n",
      " 80  StandingTackle            18159 non-null  float64\n",
      " 81  SlidingTackle             18159 non-null  float64\n",
      " 82  GKDiving                  18159 non-null  float64\n",
      " 83  GKHandling                18159 non-null  float64\n",
      " 84  GKKicking                 18159 non-null  float64\n",
      " 85  GKPositioning             18159 non-null  float64\n",
      " 86  GKReflexes                18159 non-null  float64\n",
      " 87  Release Clause            16643 non-null  object \n",
      "dtypes: float64(38), int64(5), object(45)\n",
      "memory usage: 12.9+ MB\n"
     ]
    }
   ],
   "source": [
    "df.info()"
   ]
  },
  {
   "cell_type": "code",
   "execution_count": 15,
   "metadata": {},
   "outputs": [
    {
     "data": {
      "text/plain": [
       "Index(['ID', 'Name', 'Age', 'Photo', 'Nationality', 'Flag', 'Overall',\n",
       "       'Potential', 'Club', 'Club Logo', 'Value', 'Wage', 'Special',\n",
       "       'Preferred Foot', 'International Reputation', 'Weak Foot',\n",
       "       'Skill Moves', 'Work Rate', 'Body Type', 'Real Face', 'Position',\n",
       "       'Jersey Number', 'Joined', 'Loaned From', 'Contract Valid Until',\n",
       "       'Height', 'Weight', 'LS', 'ST', 'RS', 'LW', 'LF', 'CF', 'RF', 'RW',\n",
       "       'LAM', 'CAM', 'RAM', 'LM', 'LCM', 'CM', 'RCM', 'RM', 'LWB', 'LDM',\n",
       "       'CDM', 'RDM', 'RWB', 'LB', 'LCB', 'CB', 'RCB', 'RB', 'Crossing',\n",
       "       'Finishing', 'HeadingAccuracy', 'ShortPassing', 'Volleys', 'Dribbling',\n",
       "       'Curve', 'FKAccuracy', 'LongPassing', 'BallControl', 'Acceleration',\n",
       "       'SprintSpeed', 'Agility', 'Reactions', 'Balance', 'ShotPower',\n",
       "       'Jumping', 'Stamina', 'Strength', 'LongShots', 'Aggression',\n",
       "       'Interceptions', 'Positioning', 'Vision', 'Penalties', 'Composure',\n",
       "       'Marking', 'StandingTackle', 'SlidingTackle', 'GKDiving', 'GKHandling',\n",
       "       'GKKicking', 'GKPositioning', 'GKReflexes', 'Release Clause'],\n",
       "      dtype='object')"
      ]
     },
     "execution_count": 15,
     "metadata": {},
     "output_type": "execute_result"
    }
   ],
   "source": [
    "df.columns"
   ]
  },
  {
   "cell_type": "code",
   "execution_count": 42,
   "metadata": {},
   "outputs": [
    {
     "data": {
      "text/html": [
       "<div>\n",
       "<style scoped>\n",
       "    .dataframe tbody tr th:only-of-type {\n",
       "        vertical-align: middle;\n",
       "    }\n",
       "\n",
       "    .dataframe tbody tr th {\n",
       "        vertical-align: top;\n",
       "    }\n",
       "\n",
       "    .dataframe thead th {\n",
       "        text-align: right;\n",
       "    }\n",
       "</style>\n",
       "<table border=\"1\" class=\"dataframe\">\n",
       "  <thead>\n",
       "    <tr style=\"text-align: right;\">\n",
       "      <th></th>\n",
       "      <th>Wage</th>\n",
       "    </tr>\n",
       "  </thead>\n",
       "  <tbody>\n",
       "    <tr>\n",
       "      <th>0</th>\n",
       "      <td>€565K</td>\n",
       "    </tr>\n",
       "    <tr>\n",
       "      <th>1</th>\n",
       "      <td>€405K</td>\n",
       "    </tr>\n",
       "    <tr>\n",
       "      <th>2</th>\n",
       "      <td>€290K</td>\n",
       "    </tr>\n",
       "    <tr>\n",
       "      <th>3</th>\n",
       "      <td>€260K</td>\n",
       "    </tr>\n",
       "    <tr>\n",
       "      <th>4</th>\n",
       "      <td>€355K</td>\n",
       "    </tr>\n",
       "    <tr>\n",
       "      <th>5</th>\n",
       "      <td>€340K</td>\n",
       "    </tr>\n",
       "    <tr>\n",
       "      <th>6</th>\n",
       "      <td>€420K</td>\n",
       "    </tr>\n",
       "    <tr>\n",
       "      <th>7</th>\n",
       "      <td>€455K</td>\n",
       "    </tr>\n",
       "    <tr>\n",
       "      <th>8</th>\n",
       "      <td>€380K</td>\n",
       "    </tr>\n",
       "    <tr>\n",
       "      <th>9</th>\n",
       "      <td>€94K</td>\n",
       "    </tr>\n",
       "  </tbody>\n",
       "</table>\n",
       "</div>"
      ],
      "text/plain": [
       "    Wage\n",
       "0  €565K\n",
       "1  €405K\n",
       "2  €290K\n",
       "3  €260K\n",
       "4  €355K\n",
       "5  €340K\n",
       "6  €420K\n",
       "7  €455K\n",
       "8  €380K\n",
       "9   €94K"
      ]
     },
     "execution_count": 42,
     "metadata": {},
     "output_type": "execute_result"
    }
   ],
   "source": [
    "df[['Wage']].head(10)"
   ]
  },
  {
   "cell_type": "markdown",
   "metadata": {},
   "source": [
    "# Заполните пропуски в утверждениях \n",
    "\n",
    "- В датасете 88 переменных \n",
    "\n",
    "- Из них числовых 43"
   ]
  },
  {
   "cell_type": "markdown",
   "metadata": {},
   "source": [
    "# Изучите распределение возростов с помощью Age [px.histogram](https://plotly.com/python/histograms/), изучите [более продвинутые методы](https://plotly.com/python/distplot/) визуализации распределений "
   ]
  },
  {
   "cell_type": "code",
   "execution_count": null,
   "metadata": {},
   "outputs": [],
   "source": [
    "fig = px.histogram(df, x = 'Age')\n",
    "fig.update_traces(marker_color='black')\n",
    "fig.show(renderer = 'colab')"
   ]
  },
  {
   "cell_type": "markdown",
   "metadata": {},
   "source": [
    "# Визуализируйте соотношенеие между левшами и правшами (? сами найдите необходимую колонку в данных, считаем, что левша-правша ~ предпочтительная нога для ударов )"
   ]
  },
  {
   "cell_type": "code",
   "execution_count": null,
   "metadata": {},
   "outputs": [],
   "source": [
    "fig = px.histogram(df, x = 'Preferred Foot')\n",
    "fig.update_traces(marker_color='black')\n",
    "fig.show(renderer = 'colab')"
   ]
  },
  {
   "cell_type": "markdown",
   "metadata": {},
   "source": [
    "# Визуализируйте Международный Рейтинг футболистов (International Reputation), ассоциирован ли он с национальностью? футбольным клубом? \n",
    "\n",
    "![Игроки](Players.png \"Title\")\n"
   ]
  },
  {
   "cell_type": "code",
   "execution_count": 13,
   "metadata": {},
   "outputs": [],
   "source": [
    "dfn = df.groupby('Nationality')['International Reputation'].mean().sort_values()\n",
    "dfc = df.groupby('Club')['International Reputation'].mean().sort_values()\n",
    "grafdfn = px.scatter(x = dfn, y = dfn.index, title = 'Рейтинг и национальность')\n",
    "grafdfc = px.scatter(x = dfc, y = dfc.index, title = 'Рейтинг и клуб')\n",
    "grafdfc.update_traces(marker_color='black')\n",
    "grafdfn.update_traces(marker_color='black')\n",
    "grafdfn.show(renderer = 'colab')\n",
    "grafdfc.show(renderer = 'colab')"
   ]
  },
  {
   "cell_type": "markdown",
   "metadata": {},
   "source": [
    "# Есть ли зависимость между потенциалом (Potential) и Международным Рейтингом футболистов (International Reputation)? Визуализируте её. Влияет ли на потенциал игровая нога? Почему так может случиться? (картинка в тему)\n",
    "\n",
    "![Коазуация или корреляция?](causuation.png \"???\")"
   ]
  },
  {
   "cell_type": "code",
   "execution_count": null,
   "metadata": {},
   "outputs": [],
   "source": [
    "fig = px.scatter(df, x='Potential', y='International Reputation', title = 'Зависимость между потенциалом и Международным Рейтингом футболистов')\n",
    "fig.update_traces(marker_color='black')\n",
    "fig.show(renderer = 'colab')\n",
    "#Да, зависимость есть. Чем больше рейтинг, тем больше людей с большим потенциалом."
   ]
  },
  {
   "cell_type": "code",
   "execution_count": null,
   "metadata": {},
   "outputs": [],
   "source": [
    "fig = px.histogram(data_frame=df, x='Preferred Foot', y='Potential',title='Распределение среднего потенциала по ведущим ногам')\n",
    "fig.update_traces(marker_color='black')\n",
    "fig.show(renderer = 'colab')\n",
    "#Да, влияет. Так может случиться потому что большинство футболистов играют правой ногой."
   ]
  },
  {
   "cell_type": "markdown",
   "metadata": {},
   "source": [
    "# Теперь пройдёмся по показателям игроков... \n",
    "### Есть ли зависимость Выносливости (Stamina) и Силы (Strength) игроков? какая? точно зависимость? \n"
   ]
  },
  {
   "cell_type": "code",
   "execution_count": null,
   "metadata": {},
   "outputs": [],
   "source": [
    "fig = px.scatter(df, x = 'Stamina', y = 'Strength', title = 'Зависимость выносливости и силы')\n",
    "fig.update_traces(marker_color='black')\n",
    "fig.show(renderer = 'colab')\n",
    "fig2 = px.bar(df, x=\"Stamina\", y=\"Strength\", title=\"Зависимость выносливости и силы\")\n",
    "fig2.update_traces(marker_color='black')\n",
    "fig2.show(renderer=\"colab\")\n",
    "#Зависимости нет"
   ]
  },
  {
   "cell_type": "markdown",
   "metadata": {},
   "source": [
    "# Зависит ли Стоимость игрока стоимость (Value) игрока от его \"финтов\" (Skill Moves)? "
   ]
  },
  {
   "cell_type": "code",
   "execution_count": null,
   "metadata": {},
   "outputs": [],
   "source": [
    "def per(v):\n",
    "  v = v[1:]\n",
    "  r = 0\n",
    "  if v[-1] == 'K':\n",
    "    r = int(v[:-1]) * 1000\n",
    "  if v[-1] == 'M':\n",
    "    r = int(float(v[:-1])) * 1000000\n",
    "  return r\n",
    "\n",
    "df['Newvalue'] = df['Value'].apply(per)\n",
    "fig = px.histogram(df, x = 'Skill Moves', y = 'Newvalue', title = 'Зависимость стоимости от финтов', histfunc='avg')\n",
    "fig.update_traces(marker_color='black')\n",
    "fig.show(renderer = 'colab')\n",
    "#Зависимость есть. Чем лучше играет игрок, тем больше он стоит."
   ]
  },
  {
   "cell_type": "markdown",
   "metadata": {},
   "source": [
    "# Покажите распределеняи основных характеристик игроков: Рост, Вес, Возраст по позициям (Position), сделайте выводы...\n"
   ]
  },
  {
   "cell_type": "code",
   "execution_count": 20,
   "metadata": {},
   "outputs": [],
   "source": [
    "def kg(w):\n",
    "  if type(w) == float:\n",
    "    return w\n",
    "  else:\n",
    "    return int(w[:-3])*0.45\n",
    "\n",
    "def m(h):\n",
    "  if type(h) == float:\n",
    "    return h\n",
    "  else:\n",
    "    return int(h[0]) * 0.30 + int(h[2:]) * 0.02\n",
    "\n",
    "df['Newweight'] = df['Weight'].apply(kg)\n",
    "df['Newheight'] = df['Height'].apply(m)\n",
    "\n",
    "fig = px.scatter(df, x='Position', y='Age', title='Возраст и позиция')\n",
    "fig.update_traces(marker_color='black')\n",
    "fig.show(renderer = 'colab')\n",
    "fig = px.scatter(df, x='Position', y='Newweight', title='Вес и позиция')\n",
    "fig.update_traces(marker_color='black')\n",
    "fig.show(renderer = 'colab')\n",
    "fig = px.scatter(df, x='Position', y='Newheight', title='Рост и позиция')\n",
    "fig.update_traces(marker_color='black')\n",
    "fig.show(renderer = 'colab')\n",
    "\n",
    "#Самый старый игрок - вратарь, т. к. вратарям не надо много бегать + у вратаря самый большой рост потому что вратарь должен ловить мячи. \n",
    "#RF, CF и LF игроки имеют самый маленький средний вес чем другие потому что они много бегают."
   ]
  },
  {
   "cell_type": "markdown",
   "metadata": {},
   "source": [
    "# Есть ли зависимость скорости (SprintSpeed) от веса и роста? А от национальности?  "
   ]
  },
  {
   "cell_type": "code",
   "execution_count": 21,
   "metadata": {},
   "outputs": [],
   "source": [
    "fig = px.histogram(df, x=\"SprintSpeed\", y=\"Newweight\", title = 'Скорость от веса', histfunc = 'avg')\n",
    "fig.update_traces(marker_color='grey')\n",
    "fig.show(renderer = 'colab')\n",
    "fig = px.histogram(df, x=\"SprintSpeed\", y=\"Newheight\", title = 'Скорость от высоты', histfunc = 'avg')\n",
    "fig.update_traces(marker_color='grey')\n",
    "fig.show(renderer = 'colab')\n",
    "fig = px.histogram(df, x='Nationality', y='SprintSpeed', title='Скорость национальностей', histfunc='avg')\n",
    "fig.update_traces(marker_color='black')\n",
    "fig.show(renderer = 'colab')\n",
    "#Зависимость скогрости от веса есть, но слабая (с маленьким весом бегают быстрее). \n",
    "#То же самое с ростом (с маленьким ростом бегают чуть быстрее). \n",
    "#Ну и негры бегают тоже быстрее."
   ]
  },
  {
   "cell_type": "markdown",
   "metadata": {},
   "source": [
    "# Под какими номерами чаще всего играют нападающие? Визуализируйте частотность  "
   ]
  },
  {
   "cell_type": "code",
   "execution_count": 24,
   "metadata": {},
   "outputs": [],
   "source": [
    "Newdf = df[df['Position'].isin(['ST', 'RW', 'LW', 'CF', 'RF', 'LF'])]\n",
    "fig = px.histogram(Newdf, x = 'Jersey Number', nbins = 99, title = 'Номера нападающих')\n",
    "fig.update_traces(marker_color='black')\n",
    "fig.show(renderer = 'colab')\n",
    "#Чаще всего играют под номером 9 и 11."
   ]
  },
  {
   "cell_type": "markdown",
   "metadata": {},
   "source": [
    "# Есть ли за зависимость **силы удара** (ShotPower) от **ведущей ноги**? от **агрессивности** (Aggression)? \n"
   ]
  },
  {
   "cell_type": "code",
   "execution_count": 29,
   "metadata": {},
   "outputs": [],
   "source": [
    "fig = px.histogram(df, x = 'Preferred Foot', y = 'ShotPower', title = 'Сила удара ', histfunc = 'avg')\n",
    "fig.update_traces(marker_color='black')\n",
    "fig.show(renderer = 'colab')\n",
    "\n",
    "fig =  px.histogram(df, x = 'Aggression', y = 'ShotPower', title = 'Сила удара от агрессии', histfunc = 'avg')\n",
    "fig.update_traces(marker_color='black')\n",
    "fig.show(renderer = 'colab')\n",
    "#Сила удара у левшей и правшей примерно одинаковая. Сила удара у агрессивных игроков больше."
   ]
  },
  {
   "cell_type": "markdown",
   "metadata": {},
   "source": [
    "# Найдите суммарную стоимость игроков в каждом клубе. Визуализируйте соотношение сумарной стоимости топ 10 клубов. "
   ]
  },
  {
   "cell_type": "code",
   "execution_count": 39,
   "metadata": {},
   "outputs": [],
   "source": [
    "Newdf = df.groupby('Club')['Newvalue'].sum().sort_values(ascending = False)[:10] \n",
    "fig = px.histogram(Newdf, x = Newdf.index, y = Newdf, title = 'Стоимость топ 10 клубов')\n",
    "fig.update_traces(marker_color='black')\n",
    "fig.show(renderer = 'colab') "
   ]
  },
  {
   "cell_type": "markdown",
   "metadata": {},
   "source": [
    "# Есть ли зависимость между продолжительностью контракта игрока и его стоимость? "
   ]
  },
  {
   "cell_type": "code",
   "execution_count": null,
   "metadata": {},
   "outputs": [],
   "source": [
    "def y(y):\n",
    "  if type(y) == float:\n",
    "    return y\n",
    "  else:\n",
    "    y = int(y[-4:])\n",
    "    return y\n",
    "\n",
    "df['Newjoined'] = df['Joined'].apply(y)\n",
    "df['NewContractValidUntil'] = df['Contract Valid Until'].apply(y)\n",
    "df['DurationContract'] = df['NewContractValidUntil'] - df['Newjoined']\n",
    "fig = px.scatter(df, x = 'DurationContract', y = 'Newvalue', title = 'Зависимость между стоимостью игрока и его продолжительностью контракта')\n",
    "fig.update_traces(marker_color='black')\n",
    "fig.show(renderer = 'colab')  \n",
    "#Самые дорогие игроки со средней продолжительностью контракта, т. к. они не молодые(с опытом) и не старые."
   ]
  },
  {
   "cell_type": "markdown",
   "metadata": {},
   "source": [
    "# В какой год будет больше всего свободных игроков на рынке (исходя из этих данных)? визуализируйте зависимость "
   ]
  },
  {
   "cell_type": "code",
   "execution_count": null,
   "metadata": {},
   "outputs": [],
   "source": [
    "fig  = px.histogram(df, x = 'NewContractValidUntil', title = 'Количество свободных игроков на рынке')\n",
    "fig.update_traces(marker_color='black')\n",
    "fig.show(renderer = 'colab')\n",
    "#Больше всего свободных игроков было в 2019 году."
   ]
  },
  {
   "cell_type": "markdown",
   "metadata": {},
   "source": [
    "# Есть ли зависмость потенциала (Potential) игрока от возраста? Всегда ли молодые игроки обладают большим потенциалом? "
   ]
  },
  {
   "cell_type": "code",
   "execution_count": null,
   "metadata": {},
   "outputs": [],
   "source": [
    "fig = px.histogram(df, x = 'Age', y = 'Potential', title = 'Зависмость потенциала игрока от возраста', histfunc = 'avg')\n",
    "fig.update_traces(marker_color='black')\n",
    "fig.show(renderer = 'colab')\n",
    "#Потенциал немного больше у молодых игроков."
   ]
  },
  {
   "cell_type": "markdown",
   "metadata": {},
   "source": [
    "# Есть ли зависимость рейтинга игрока (Overall) от возраста? Когда у игроков \"пик\" карьеры? Игроков какого возраста больше всего с рейтингом 90+?  "
   ]
  },
  {
   "cell_type": "code",
   "execution_count": null,
   "metadata": {},
   "outputs": [],
   "source": [
    "fig = px.histogram(df, x = 'Age', y = 'Overall', title = 'Зависмость рейтинга игрока от возраста', histfunc = 'avg')\n",
    "fig.update_traces(marker_color='black')\n",
    "fig.show(renderer = 'colab')\n",
    "Newdf = df[df['Overall']>=90]\n",
    "fig = fig = px.histogram(Newdf, x = 'Age', y = 'Overall', title = 'Количество игроков определенного возраста с рейтингом 90+', nbins=10, histfunc = 'count')\n",
    "fig.update_traces(marker_color='black')\n",
    "fig.show(renderer = 'colab')\n",
    "#Рейтинг не зависит от возраста. У игроков пик карьеры в возрасте 25-33, т. к. в этом промежутке есть игроки с самым большим рейтингом.\n",
    "#Больше всего игроков с рейтингом 90+ в возрасте 32 лет."
   ]
  },
  {
   "cell_type": "markdown",
   "metadata": {},
   "source": [
    "# Насколько средняя зарплата (Wage) игроков с рейтингом (Overall) 90+ больше средней зарплаты с рейтингом [80 - 90]? Визуализируйте возможную зависимость"
   ]
  },
  {
   "cell_type": "code",
   "execution_count": null,
   "metadata": {},
   "outputs": [],
   "source": [
    "def w(w):\n",
    "  w = w[1:]\n",
    "  if w[-1] == 'K':\n",
    "      return int(w[:-1]) * 1000\n",
    "df['Newwage'] = df['Wage'].apply(w)\n",
    "df90 = df[df['Overall'] >= 90]\n",
    "df8090 = df[(df['Overall'] >= 80) & (df['Overall'] < 90)]\n",
    "print(int(df90['Newwage'].mean() - df8090['Newwage'].mean()))\n",
    "fig = px.histogram(df90, x = 'Overall', y = 'Newwage', histfunc = 'avg')\n",
    "fig.update_traces(marker_color='black')\n",
    "fig.show(renderer = 'colab')\n",
    "fig = px.histogram(df8090, x = 'Overall', y = 'Newwage', histfunc = 'avg')\n",
    "fig.update_traces(marker_color='black')\n",
    "fig.show(renderer = 'colab')\n",
    "#Зарплата 90+ выше на 241 тысячу. "
   ]
  }
 ],
 "metadata": {
  "interpreter": {
   "hash": "38cca0c38332a56087b24af0bc80247f4fced29cb4f7f437d91dc159adec9c4e"
  },
  "kernelspec": {
   "display_name": "Python 3 (ipykernel)",
   "language": "python",
   "name": "python3"
  },
  "language_info": {
   "codemirror_mode": {
    "name": "ipython",
    "version": 3
   },
   "file_extension": ".py",
   "mimetype": "text/x-python",
   "name": "python",
   "nbconvert_exporter": "python",
   "pygments_lexer": "ipython3",
   "version": "3.10.2"
  }
 },
 "nbformat": 4,
 "nbformat_minor": 2
}
